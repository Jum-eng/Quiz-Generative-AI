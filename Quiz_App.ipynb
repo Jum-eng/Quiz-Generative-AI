{
  "nbformat": 4,
  "nbformat_minor": 0,
  "metadata": {
    "colab": {
      "provenance": [],
      "authorship_tag": "ABX9TyOwjOXh8xk+OEols38+py60",
      "include_colab_link": true
    },
    "kernelspec": {
      "name": "python3",
      "display_name": "Python 3"
    },
    "language_info": {
      "name": "python"
    }
  },
  "cells": [
    {
      "cell_type": "markdown",
      "metadata": {
        "id": "view-in-github",
        "colab_type": "text"
      },
      "source": [
        "<a href=\"https://colab.research.google.com/github/Jum-eng/Quiz-Generative-AI/blob/main/Quiz_App.ipynb\" target=\"_parent\"><img src=\"https://colab.research.google.com/assets/colab-badge.svg\" alt=\"Open In Colab\"/></a>"
      ]
    },
    {
      "cell_type": "code",
      "execution_count": 2,
      "metadata": {
        "colab": {
          "base_uri": "https://localhost:8080/"
        },
        "id": "L8uqLevbyR2h",
        "outputId": "7245911d-1926-49fb-c941-49a057188d51"
      },
      "outputs": [
        {
          "output_type": "stream",
          "name": "stdout",
          "text": [
            "Welcome to the 'Introduction to Generative AI' Quiz!\n",
            "Enter your name: Jumah\n",
            "\n",
            "What is Generative AI?\n",
            "A. A type of supervised learning\n",
            "B. AI that generates new content\n",
            "C. AI used only for automation\n",
            "D. AI that replaces all human jobs\n",
            "Enter your answer (A/B/C/D): B\n",
            "Correct!\n",
            "\n",
            "Which model is commonly used in Generative AI?\n",
            "A. CNN\n",
            "B. Decision Trees\n",
            "C. GANs\n",
            "D. SVM\n",
            "Enter your answer (A/B/C/D): C\n",
            "Correct!\n",
            "\n",
            "What is the role of a 'discriminator' in GANs?\n",
            "A. It generates new content\n",
            "B. It classifies real and fake data\n",
            "C. It trains supervised learning models\n",
            "D. It optimizes loss functions\n",
            "Enter your answer (A/B/C/D): B\n",
            "Correct!\n",
            "\n",
            "Which language is most used in Generative AI research?\n",
            "A. Java\n",
            "B. Python\n",
            "C. C++\n",
            "D. Ruby\n",
            "Enter your answer (A/B/C/D): B\n",
            "Correct!\n",
            "\n",
            "Which of the following is an application of Generative AI?\n",
            "A. Face recognition\n",
            "B. Image generation\n",
            "C. Sorting algorithms\n",
            "D. Data compression\n",
            "Enter your answer (A/B/C/D): C\n",
            "Wrong! Image generation is a key application of Generative AI, used in fields like art, entertainment, and design.\n",
            "\n",
            "Jumah, your final score is: 3\n"
          ]
        }
      ],
      "source": [
        "def quiz_app():\n",
        "    print(\"Welcome to the 'Introduction to Generative AI' Quiz!\")\n",
        "    student_name = input(\"Enter your name: \")\n",
        "\n",
        "    questions = [\n",
        "        {\"question\": \"What is Generative AI?\",\n",
        "         \"options\": [\"A. A type of supervised learning\", \"B. AI that generates new content\",\n",
        "                      \"C. AI used only for automation\", \"D. AI that replaces all human jobs\"],\n",
        "         \"answer\": \"B\",\n",
        "         \"explanation\": \"Generative AI refers to AI systems that can create new content, such as text, images, or music, rather than just analyzing existing data.\"},\n",
        "\n",
        "        {\"question\": \"Which model is commonly used in Generative AI?\",\n",
        "         \"options\": [\"A. CNN\", \"B. Decision Trees\", \"C. GANs\", \"D. SVM\"],\n",
        "         \"answer\": \"C\",\n",
        "         \"explanation\": \"GANs (Generative Adversarial Networks) are a popular type of model in Generative AI, capable of generating realistic data samples.\"},\n",
        "\n",
        "        {\"question\": \"What is the role of a 'discriminator' in GANs?\",\n",
        "         \"options\": [\"A. It generates new content\", \"B. It classifies real and fake data\",\n",
        "                      \"C. It trains supervised learning models\", \"D. It optimizes loss functions\"],\n",
        "         \"answer\": \"B\",\n",
        "         \"explanation\": \"In GANs, the discriminator differentiates between real and generated (fake) data, helping improve the generator's accuracy.\"},\n",
        "\n",
        "        {\"question\": \"Which language is most used in Generative AI research?\",\n",
        "         \"options\": [\"A. Java\", \"B. Python\", \"C. C++\", \"D. Ruby\"],\n",
        "         \"answer\": \"B\",\n",
        "         \"explanation\": \"Python is the most commonly used language in Generative AI due to its extensive AI and machine learning libraries.\"},\n",
        "\n",
        "        {\"question\": \"Which of the following is an application of Generative AI?\",\n",
        "         \"options\": [\"A. Face recognition\", \"B. Image generation\", \"C. Sorting algorithms\", \"D. Data compression\"],\n",
        "         \"answer\": \"B\",\n",
        "         \"explanation\": \"Image generation is a key application of Generative AI, used in fields like art, entertainment, and design.\"}\n",
        "    ]\n",
        "\n",
        "    score = 0\n",
        "\n",
        "    for q in questions:\n",
        "        print(\"\\n\" + q[\"question\"])\n",
        "        for option in q[\"options\"]:\n",
        "            print(option)\n",
        "\n",
        "        user_answer = input(\"Enter your answer (A/B/C/D): \").strip().upper()\n",
        "\n",
        "        if user_answer == q[\"answer\"]:\n",
        "            print(\"Correct!\")\n",
        "            score += 1\n",
        "        else:\n",
        "            print(f\"Wrong! {q['explanation']}\")\n",
        "            score -= 1\n",
        "\n",
        "    print(f\"\\n{student_name}, your final score is: {score}\")\n",
        "\n",
        "quiz_app()\n"
      ]
    }
  ]
}